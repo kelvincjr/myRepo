{
 "cells": [
  {
   "cell_type": "markdown",
   "metadata": {},
   "source": [
    "# CLUE-TNEWS 今日头条中文新闻（短文本）分类\n",
    "\n",
    "该数据集来自今日头条的新闻版块，共提取了15个类别的新闻，包括旅游，教育，金融，军事等。\n",
    "\n",
    "训练集(53,360)，验证集(10,000)，测试集(10,000)\n",
    "     \n",
    " 例子：\n",
    " \n",
    " {\"label\": \"102\", \"label_des\": \"news_entertainment\", \"sentence\": \"江疏影甜甜圈自拍，迷之角度竟这么好看，美吸引一切事物\"}\n",
    " 每一条数据有三个属性，从前往后分别是 分类ID，分类名称，新闻字符串（仅含标题）。"
   ]
  },
  {
   "cell_type": "code",
   "execution_count": 2,
   "metadata": {},
   "outputs": [],
   "source": [
    "%reload_ext autoreload\n",
    "%autoreload 2"
   ]
  },
  {
   "cell_type": "markdown",
   "metadata": {},
   "source": [
    "## 1. 数据观察"
   ]
  },
  {
   "cell_type": "code",
   "execution_count": 3,
   "metadata": {},
   "outputs": [],
   "source": [
    "import json\n",
    "import pandas\n",
    "from tqdm import tqdm\n",
    "from loguru import logger\n",
    "import numpy as np"
   ]
  },
  {
   "cell_type": "code",
   "execution_count": 4,
   "metadata": {},
   "outputs": [],
   "source": [
    "train_file = './data/rawdata/train.json'\n",
    "test_file = './data/rawdata/test.json'\n",
    "dev_file = './data/rawdata/dev.json'\n",
    "labels_file = './data/rawdata/labels.json'"
   ]
  },
  {
   "cell_type": "code",
   "execution_count": 5,
   "metadata": {},
   "outputs": [],
   "source": [
    "def load_json_data(json_file):\n",
    "    rd = open(json_file, 'r')\n",
    "    lines = rd.readlines()\n",
    "    rd.close()\n",
    "    json_data = []\n",
    "    for line in tqdm(lines):\n",
    "        line = line.strip()\n",
    "        line_data = json.loads(line)\n",
    "        json_data.append(line_data)\n",
    "    print(f\"Total: {len(json_data)}\")\n",
    "    print(json_data[:5])\n",
    "    return json_data"
   ]
  },
  {
   "cell_type": "code",
   "execution_count": 6,
   "metadata": {},
   "outputs": [
    {
     "name": "stderr",
     "output_type": "stream",
     "text": [
      "100%|██████████| 53360/53360 [00:00<00:00, 196514.55it/s]\n",
      "100%|██████████| 10000/10000 [00:00<00:00, 221313.11it/s]\n",
      "100%|██████████| 10000/10000 [00:00<00:00, 204082.52it/s]"
     ]
    },
    {
     "name": "stdout",
     "output_type": "stream",
     "text": [
      "Total: 53360\n",
      "[{'label': '108', 'label_desc': 'news_edu', 'sentence': '上课时学生手机响个不停，老师一怒之下把手机摔了，家长拿发票让老师赔，大家怎么看待这种事？', 'keywords': ''}, {'label': '104', 'label_desc': 'news_finance', 'sentence': '商赢环球股份有限公司关于延期回复上海证券交易所对公司2017年年度报告的事后审核问询函的公告', 'keywords': '商赢环球股份有限公司,年度报告,商赢环球,赢环球股份有限公司,事后审核问询函,上海证券交易所'}, {'label': '106', 'label_desc': 'news_house', 'sentence': '通过中介公司买了二手房，首付都付了，现在卖家不想卖了。怎么处理？', 'keywords': ''}, {'label': '112', 'label_desc': 'news_travel', 'sentence': '2018年去俄罗斯看世界杯得花多少钱？', 'keywords': '莫斯科,贝加尔湖,世界杯,俄罗斯,Hour'}, {'label': '109', 'label_desc': 'news_tech', 'sentence': '剃须刀的个性革新，雷明登天猫定制版新品首发', 'keywords': '剃须刀,绝地求生,定制版,战狼2,红海行动,天猫定制版三防,雷明登,维克托'}]\n",
      "Total: 10000\n",
      "[{'id': 0, 'sentence': '在设计史上，每当相对稳定的发展时期，这种设计思想就会成为主导', 'keywords': '民族性,设计思想,继承型设计,复古主义,服装史'}, {'id': 1, 'sentence': '利希施泰纳宣布赛季结束后离队：我需要新的挑战', 'keywords': '尤文,博洛尼亚,施泰纳,利希施泰纳,拉齐奥'}, {'id': 2, 'sentence': '庄家一般都是什么操盘思路？', 'keywords': ''}, {'id': 3, 'sentence': '王者荣耀里搅屎棍英雄都有谁？', 'keywords': ''}, {'id': 4, 'sentence': '照片不小心被删，看看下面的教程，完美找回来！', 'keywords': '付款信息'}]\n",
      "Total: 10000\n",
      "[{'label': '102', 'label_desc': 'news_entertainment', 'sentence': '江疏影甜甜圈自拍，迷之角度竟这么好看，美吸引一切事物', 'keywords': '江疏影,美少女,经纪人,甜甜圈'}, {'label': '110', 'label_desc': 'news_military', 'sentence': '以色列大规模空袭开始！伊朗多个军事目标遭遇打击，誓言对等反击', 'keywords': '伊朗,圣城军,叙利亚,以色列国防军,以色列'}, {'label': '104', 'label_desc': 'news_finance', 'sentence': '出栏一头猪亏损300元，究竟谁能笑到最后！', 'keywords': '商品猪,养猪,猪价,仔猪,饲料'}, {'label': '109', 'label_desc': 'news_tech', 'sentence': '以前很火的巴铁为何现在只字不提？', 'keywords': ''}, {'label': '112', 'label_desc': 'news_travel', 'sentence': '作为一名酒店从业人员，你经历过房客哪些特别没有素质的行为？', 'keywords': ''}]\n"
     ]
    },
    {
     "name": "stderr",
     "output_type": "stream",
     "text": [
      "\n"
     ]
    }
   ],
   "source": [
    "train_data = load_json_data(train_file)\n",
    "test_data = load_json_data(test_file)\n",
    "dev_data = load_json_data(dev_file)"
   ]
  },
  {
   "cell_type": "markdown",
   "metadata": {},
   "source": [
    "### 1.1 样本数量分布"
   ]
  },
  {
   "cell_type": "code",
   "execution_count": 7,
   "metadata": {},
   "outputs": [
    {
     "data": {
      "text/plain": [
       "Counter({'news_edu': 4083,\n",
       "         'news_finance': 6156,\n",
       "         'news_house': 2485,\n",
       "         'news_travel': 4061,\n",
       "         'news_tech': 7044,\n",
       "         'news_sports': 4758,\n",
       "         'news_game': 4049,\n",
       "         'news_culture': 4817,\n",
       "         'news_car': 4909,\n",
       "         'news_story': 1326,\n",
       "         'news_entertainment': 5886,\n",
       "         'news_military': 4348,\n",
       "         'news_agriculture': 3380,\n",
       "         'news_world': 5756,\n",
       "         'news_stock': 302})"
      ]
     },
     "execution_count": 7,
     "metadata": {},
     "output_type": "execute_result"
    }
   ],
   "source": [
    "all_data = train_data + dev_data\n",
    "descs = [ x['label_desc'] for x in all_data]\n",
    "from collections import Counter\n",
    "Counter(descs)"
   ]
  },
  {
   "cell_type": "markdown",
   "metadata": {},
   "source": [
    "### 1.2 样本长度分布"
   ]
  },
  {
   "cell_type": "code",
   "execution_count": 8,
   "metadata": {},
   "outputs": [
    {
     "name": "stderr",
     "output_type": "stream",
     "text": [
      "2020-06-13 00:40:12.028 | INFO     | __main__:<module>:2 - ***** Text Lengths *****\n",
      "2020-06-13 00:40:12.034 | INFO     | __main__:<module>:3 - mean: 22.14\n",
      "2020-06-13 00:40:12.038 | INFO     | __main__:<module>:4 - std: 22.14\n",
      "2020-06-13 00:40:12.043 | INFO     | __main__:<module>:5 - max: 145\n",
      "2020-06-13 00:40:12.047 | INFO     | __main__:<module>:6 - min: 2\n"
     ]
    }
   ],
   "source": [
    "lengths = [ len(x['sentence']) for x in all_data]\n",
    "logger.info(f\"***** Text Lengths *****\")\n",
    "logger.info(f\"mean: {np.mean(lengths):.2f}\")\n",
    "logger.info(f\"std: {np.mean(lengths):.2f}\")\n",
    "logger.info(f\"max: {np.max(lengths)}\")\n",
    "logger.info(f\"min: {np.min(lengths)}\")"
   ]
  },
  {
   "cell_type": "markdown",
   "metadata": {},
   "source": [
    "### 1.3 样本标签"
   ]
  },
  {
   "cell_type": "code",
   "execution_count": 9,
   "metadata": {},
   "outputs": [
    {
     "name": "stderr",
     "output_type": "stream",
     "text": [
      "100%|██████████| 15/15 [00:00<00:00, 49267.47it/s]"
     ]
    },
    {
     "name": "stdout",
     "output_type": "stream",
     "text": [
      "Total: 15\n",
      "[{'label': '100', 'label_desc': 'news_story'}, {'label': '101', 'label_desc': 'news_culture'}, {'label': '102', 'label_desc': 'news_entertainment'}, {'label': '103', 'label_desc': 'news_sports'}, {'label': '104', 'label_desc': 'news_finance'}]\n"
     ]
    },
    {
     "name": "stderr",
     "output_type": "stream",
     "text": [
      "\n"
     ]
    }
   ],
   "source": [
    "labels_data = load_json_data(labels_file)\n",
    "label2desc = {x['label']:x['label_desc'] for x in labels_data}\n",
    "desc2label = {x['label_desc']:x['label'] for x in labels_data}"
   ]
  },
  {
   "cell_type": "code",
   "execution_count": 10,
   "metadata": {},
   "outputs": [
    {
     "name": "stdout",
     "output_type": "stream",
     "text": [
      "glue_labels: 15 ['news_story', 'news_culture', 'news_entertainment', 'news_sports', 'news_finance', 'news_house', 'news_car', 'news_edu', 'news_tech', 'news_military', 'news_travel', 'news_world', 'news_stock', 'news_agriculture', 'news_game']\n"
     ]
    }
   ],
   "source": [
    "glue_labels = [ x['label_desc'] for x in labels_data]\n",
    "print(f\"glue_labels: {len(glue_labels)} {glue_labels}\")"
   ]
  },
  {
   "cell_type": "markdown",
   "metadata": {},
   "source": [
    "## 2. 模型构建"
   ]
  },
  {
   "cell_type": "code",
   "execution_count": 11,
   "metadata": {},
   "outputs": [],
   "source": [
    "import json, random\n",
    "from tqdm import tqdm\n",
    "from loguru import logger\n",
    "from pathlib import Path\n",
    "import pandas as pd\n",
    "import numpy as np\n",
    "\n",
    "import sys\n",
    "sys.path.append('../../../idleuncle/theta')\n",
    "\n",
    "from theta.modeling.glue import load_model, InputExample, GlueTrainer, get_args\n",
    "from theta.modeling import load_glue_examples, show_glue_datainfo"
   ]
  },
  {
   "cell_type": "code",
   "execution_count": 12,
   "metadata": {},
   "outputs": [],
   "source": [
    "seg_len = 0\n",
    "seg_backoff=0"
   ]
  },
  {
   "cell_type": "markdown",
   "metadata": {},
   "source": [
    "### 2.1 模型输入数据"
   ]
  },
  {
   "cell_type": "code",
   "execution_count": 13,
   "metadata": {},
   "outputs": [],
   "source": [
    "# -------------------- Input Data --------------------\n",
    "\n",
    "\n",
    "def clean_text(text):\n",
    "    text = text.strip().replace('\\n', '')\n",
    "    text = text.replace('\\t', ' ')\n",
    "    return text\n",
    "\n",
    "\n",
    "def train_data_generator(train_file):\n",
    "    for i, json_data in enumerate(tqdm(train_data, desc=\"train\")):\n",
    "        guid = str(i)\n",
    "        text = json_data['sentence']\n",
    "        text = clean_text(text)\n",
    "        label = json_data['label_desc']\n",
    "\n",
    "        yield guid, text, None, label\n",
    "        \n",
    "def eval_data_generator(eval_file):\n",
    "    for i, json_data in enumerate(tqdm(dev_data, desc=\"eval\")):\n",
    "        guid = str(i)\n",
    "        text = json_data['sentence']\n",
    "        text = clean_text(text)\n",
    "        label = json_data['label_desc']\n",
    "\n",
    "        yield guid, text, None, label\n",
    "        \n",
    "\n",
    "def test_data_generator(test_file):\n",
    "\n",
    "    total_examples = len(test_data)\n",
    "    for i, json_data in enumerate(tqdm(test_data, desc=\"test\")):\n",
    "        guid = str(json_data['id'])\n",
    "        text = json_data['sentence']\n",
    "        text = clean_text(text)\n",
    "\n",
    "        yield guid, text, None, None"
   ]
  },
  {
   "cell_type": "markdown",
   "metadata": {},
   "source": [
    "### 2.2 模型输出结果"
   ]
  },
  {
   "cell_type": "code",
   "execution_count": 14,
   "metadata": {},
   "outputs": [],
   "source": [
    "# -------------------- Output results --------------------\n",
    "\n",
    "\n",
    "def save_predict_results(args, pred_results, pred_results_file, test_examples):\n",
    "    descs = []\n",
    "    with open(pred_results_file, 'w') as wr:\n",
    "        for label, example in zip(pred_results, test_examples):\n",
    "            label_desc = args.id2label[label]\n",
    "            descs.append(label_desc)\n",
    "            ID = example.guid\n",
    "            text = example.text_a\n",
    "            json_data = {'id':ID, 'label':desc2label[label_desc], 'label_desc':label_desc, 'sentence': text}\n",
    "            wr.write(f\"{json.dumps(json_data, ensure_ascii=False)}\\n\")\n",
    "    logger.info(f\"Predict results file saved to {pred_results_file}\")\n",
    "    from collections import Counter\n",
    "    print(f\"{Counter(descs)}\")\n"
   ]
  },
  {
   "cell_type": "markdown",
   "metadata": {},
   "source": [
    "### 2.3 数据样本集合\n",
    "\n",
    "以下代码通常不需要改动。"
   ]
  },
  {
   "cell_type": "code",
   "execution_count": 15,
   "metadata": {},
   "outputs": [],
   "source": [
    "# -------------------- Examples --------------------\n",
    "\n",
    "def load_train_examples(train_file):\n",
    "    train_examples = load_glue_examples(train_data_generator, train_file)\n",
    "    logger.info(f\"Loaded {len(train_examples)} train examples.\")\n",
    "\n",
    "    return train_examples\n",
    "\n",
    "def load_eval_examples(eval_file):\n",
    "    eval_examples = load_glue_examples(eval_data_generator, eval_file)\n",
    "    logger.info(f\"Loaded {len(eval_examples)} eval examples.\")\n",
    "\n",
    "    return eval_examples\n",
    "\n",
    "def load_test_examples(test_file):\n",
    "    test_examples = load_glue_examples(test_data_generator, test_file)\n",
    "    logger.info(f\"Loaded {len(test_examples)} test examples.\")\n",
    "\n",
    "    return test_examples\n",
    "\n"
   ]
  },
  {
   "cell_type": "markdown",
   "metadata": {},
   "source": [
    "### 2.4 自定义模型\n",
    "Theta对每类任务都有缺省模型，通常情况下不需要自定义模型。训练器Trainer中传入参数build_model=None即可。"
   ]
  },
  {
   "cell_type": "code",
   "execution_count": 16,
   "metadata": {},
   "outputs": [],
   "source": [
    "# -------------------- Model --------------------\n",
    "\n",
    "\n",
    "def build_model(args):\n",
    "    \"\"\"\n",
    "    自定义模型\n",
    "    规格要求返回模型(model)、优化器(optimizer)、调度器(scheduler)三元组。\n",
    "    \"\"\"\n",
    "    \n",
    "    # -------- model --------\n",
    "    from theta.modeling.ner_span import load_pretrained_model\n",
    "    model = load_pretrained_model(args)\n",
    "    model.to(args.device)\n",
    "\n",
    "    # -------- optimizer --------\n",
    "    from transformers.optimization import AdamW\n",
    "    from theta.modeling.trainer import get_default_optimizer_parameters\n",
    "    optimizer_parameters = get_default_optimizer_parameters(\n",
    "        model, args.weight_decay)\n",
    "    optimizer = AdamW(optimizer_parameters,\n",
    "                      lr=args.learning_rate,\n",
    "                      correct_bias=False)\n",
    "\n",
    "    # -------- scheduler --------\n",
    "    from transformers.optimization import get_linear_schedule_with_warmup\n",
    "    scheduler = get_linear_schedule_with_warmup(\n",
    "        optimizer,\n",
    "        num_warmup_steps=args.total_steps * args.warmup_rate,\n",
    "        num_training_steps=args.total_steps)\n",
    "\n",
    "    return model, optimizer, scheduler"
   ]
  },
  {
   "cell_type": "markdown",
   "metadata": {},
   "source": [
    "### 2.5 自定训练器\n",
    "\n",
    "训练器也不是必须定义的，可以直接用GlueTrainer实例化训练器。\n",
    "\n",
    "自定义训练器通常是为了使用自定义模型或重载训练、评估、推理过程的关键节点，便于输出、调试等。"
   ]
  },
  {
   "cell_type": "code",
   "execution_count": 17,
   "metadata": {},
   "outputs": [],
   "source": [
    "# -------------------- Trainer --------------------\n",
    "\n",
    "\n",
    "class AppTrainer(GlueTrainer):\n",
    "    def __init__(self, args, glue_labels):\n",
    "        # 使用自定义模型时，传入build_model参数。\n",
    "        super(AppTrainer, self).__init__(args, glue_labels, build_model=None)\n"
   ]
  },
  {
   "cell_type": "markdown",
   "metadata": {},
   "source": [
    "### 2.6 主控流程"
   ]
  },
  {
   "cell_type": "code",
   "execution_count": 18,
   "metadata": {},
   "outputs": [],
   "source": [
    "def main(args):\n",
    "    if args.do_eda:\n",
    "        show_glue_datainfo(glue_labels, train_data_generator, args.train_file,\n",
    "                           test_data_generator, args.test_file)\n",
    "    else:\n",
    "        trainer = AppTrainer(args, glue_labels)\n",
    "\n",
    "        if args.do_train:\n",
    "            train_examples = load_train_examples(args.train_file)\n",
    "            eval_examples = load_eval_examples(args.eval_file)\n",
    "            trainer.train(args, train_examples, eval_examples)\n",
    "\n",
    "        elif args.do_eval:\n",
    "            eval_examples = load_eval_examples(args.eval_file)\n",
    "            model = load_model(args)\n",
    "            trainer.evaluate(args, model, eval_examples)\n",
    "\n",
    "        elif args.do_predict:\n",
    "            test_examples = load_test_examples(args)\n",
    "            model = load_model(args)\n",
    "            trainer.predict(args, model, test_examples)\n",
    "\n",
    "            save_predict_results(\n",
    "                args, trainer.pred_results,\n",
    "                f\"./{args.dataset_name}_predict.json\",\n",
    "                test_examples)\n",
    "\n"
   ]
  },
  {
   "cell_type": "markdown",
   "metadata": {},
   "source": [
    "## 3. 运行"
   ]
  },
  {
   "cell_type": "markdown",
   "metadata": {},
   "source": [
    "### 3.1 全局参数"
   ]
  },
  {
   "cell_type": "code",
   "execution_count": 19,
   "metadata": {},
   "outputs": [],
   "source": [
    "#def add_special_args(parser):\n",
    "#    return parser\n",
    "\n",
    "#from theta.modeling.glue.args import get_args\n",
    "#args = get_args([add_special_args])\n",
    "\n",
    "import sys, argparse\n",
    "\n",
    "def get_init_args():\n",
    "    parser = argparse.ArgumentParser()\n",
    "    for arg in sys.argv:\n",
    "        if arg.startswith('-'):\n",
    "            parser.add_argument(arg, type=str)\n",
    "    args = parser.parse_args()\n",
    "    return args\n",
    "\n",
    "#import argparse\n",
    "#parser = argparse.ArgumentParser()\n",
    "#parser.add_argument(\"-f\",type=str)\n",
    "#args = parser.parse_args()\n",
    "\n",
    "args = get_init_args()\n",
    "\n",
    "DATASET_NAME=\"tnews\"\n",
    "DATA_DIR=\"./data\"\n",
    "OUTPUT_DIR=f\"output_{DATASET_NAME}\"\n",
    "CHECKPOINT_MODEL=f\"{OUTPUT_DIR}/best\"\n",
    "SUBMISSIONS_DIR = \"./submissions\"\n",
    "\n",
    "TRAIN_FILE = \"./data/rawdata/train.json\"\n",
    "TEST_FILE = \"./data/rawdata/test.json\"\n",
    "EVAL_FILE = \"./data/rawdata/dev.json\"\n",
    "\n",
    "EPOCHS=10\n",
    "TRAIN_SAMPLE_RATE=1.0\n",
    "\n",
    "MODEL_TYPE=\"bert\"\n",
    "PRETRAINED_MODEL=\"/opt/share/pretrained/pytorch/bert-base-chinese\"\n",
    "LEARNING_RATE=2e-5\n",
    "TRAIN_MAX_SEQ_LENGTH=160\n",
    "EVAL_MAX_SEQ_LENGTH=160\n",
    "TRAIN_BATCH_SIZE=64\n",
    "EVAL_BATCH_SIZE=64\n",
    "PREDICT_BATCH_SIZE=64\n",
    "\n",
    "args.do_train=False\n",
    "args.do_predict=False\n",
    "args.do_eval=False\n",
    "args.train_max_seq_length = TRAIN_MAX_SEQ_LENGTH\n",
    "args.eval_max_seq_length = EVAL_MAX_SEQ_LENGTH\n",
    "args.num_train_epochs = EPOCHS\n",
    "args.learning_rate = LEARNING_RATE\n",
    "args.per_gpu_train_batch_size = TRAIN_BATCH_SIZE\n",
    "args.per_gpu_eval_batch_size = EVAL_BATCH_SIZE\n",
    "args.per_gpu_predict_batch_size = EVAL_BATCH_SIZE\n",
    "\n",
    "args.data_dir = DATA_DIR\n",
    "args.dataset_name = DATASET_NAME\n",
    "args.train_file = TRAIN_FILE\n",
    "args.eval_file = EVAL_FILE\n",
    "args.test_file = TEST_FILE\n",
    "\n",
    "args.output_dir = OUTPUT_DIR\n",
    "args.pred_output_dir = OUTPUT_DIR\n",
    "args.submissions_dir = SUBMISSIONS_DIR\n",
    "\n",
    "args.enable_kd = False\n",
    "args.kd_coeff = 1.0\n",
    "args.kd_decay = 0.995\n",
    "\n",
    "args.model_type = MODEL_TYPE\n",
    "args.model_path = PRETRAINED_MODEL\n",
    "args.overwrite_cache = True\n",
    "args.train_sample_rate = TRAIN_SAMPLE_RATE\n",
    "args.seed = 8864\n",
    "args.local_rank=-1\n",
    "args.no_cuda = None\n",
    "args.do_lower_case=True\n",
    "args.cache_dir = None\n",
    "args.train_rate=0.8\n",
    "args.fold = 0\n",
    "args.gradient_accumulation_steps = 1\n",
    "args.max_steps = 0\n",
    "#args.loss_type = 'FocalLoss'\n",
    "args.loss_type = 'CrossEntropyLoss'\n",
    "args.focalloss_gamma = 1.5\n",
    "args.focalloss_alpha = None\n",
    "args.weight_decay = 0.0\n",
    "args.warmup_rate = 0.1\n",
    "args.fp16 = True\n",
    "args.fp16_opt_level = 'O1'\n",
    "args.max_grad_norm = 1.0\n",
    "args.save_checkpoints = False\n",
    "args.no_eval_on_each_epoch=False\n"
   ]
  },
  {
   "cell_type": "markdown",
   "metadata": {},
   "source": [
    "### 3.2 启动训练"
   ]
  },
  {
   "cell_type": "code",
   "execution_count": 20,
   "metadata": {},
   "outputs": [
    {
     "name": "stderr",
     "output_type": "stream",
     "text": [
      "2020-06-13 00:40:23.325 | INFO     | theta.modeling.glue.trainer:init_labels:381 - args.label2id: {'news_story': 0, 'news_culture': 1, 'news_entertainment': 2, 'news_sports': 3, 'news_finance': 4, 'news_house': 5, 'news_car': 6, 'news_edu': 7, 'news_tech': 8, 'news_military': 9, 'news_travel': 10, 'news_world': 11, 'news_stock': 12, 'news_agriculture': 13, 'news_game': 14}\n",
      "2020-06-13 00:40:23.326 | INFO     | theta.modeling.glue.trainer:init_labels:382 - args.id2label: {0: 'news_story', 1: 'news_culture', 2: 'news_entertainment', 3: 'news_sports', 4: 'news_finance', 5: 'news_house', 6: 'news_car', 7: 'news_edu', 8: 'news_tech', 9: 'news_military', 10: 'news_travel', 11: 'news_world', 12: 'news_stock', 13: 'news_agriculture', 14: 'news_game'}\n",
      "2020-06-13 00:40:23.327 | INFO     | theta.modeling.glue.trainer:init_labels:383 - args.num_labels: 15\n",
      "2020-06-13 00:40:23.341 | DEBUG    | theta.modeling.glue.trainer:__init__:345 - target_names: ['news_story', 'news_culture', 'news_entertainment', 'news_sports', 'news_finance', 'news_house', 'news_car', 'news_edu', 'news_tech', 'news_military', 'news_travel', 'news_world', 'news_stock', 'news_agriculture', 'news_game']\n",
      "2020-06-13 00:40:23.342 | DEBUG    | theta.modeling.glue.trainer:__init__:346 - labels: [0, 1, 2, 3, 4, 5, 6, 7, 8, 9, 10, 11, 12, 13, 14]\n",
      "train: 100%|██████████| 53360/53360 [00:00<00:00, 253874.70it/s]\n",
      "2020-06-13 00:40:23.555 | INFO     | theta.modeling.glue_utils:load_glue_examples:50 - Loaded 53360 examples.\n",
      "2020-06-13 00:40:23.555 | INFO     | __main__:load_train_examples:5 - Loaded 53360 train examples.\n",
      "eval: 100%|██████████| 10000/10000 [00:00<00:00, 423260.91it/s]\n",
      "2020-06-13 00:40:23.581 | INFO     | theta.modeling.glue_utils:load_glue_examples:50 - Loaded 10000 examples.\n",
      "2020-06-13 00:40:23.582 | INFO     | __main__:load_eval_examples:11 - Loaded 10000 eval examples.\n",
      "2020-06-13 00:40:23.582 | INFO     | theta.modeling.trainer:train:140 - Start train: 53360 train examples, 10000 eval examples.\n",
      "2020-06-13 00:40:29.242 | INFO     | theta.modeling.trainer:train:154 - Start training ...\n",
      "2020-06-13 00:40:29.243 | INFO     | theta.modeling.trainer:train:155 -   Num examples    = 53360\n",
      "2020-06-13 00:40:29.243 | INFO     | theta.modeling.trainer:train:156 -   Num epoch steps = 834\n",
      "2020-06-13 00:40:29.244 | INFO     | theta.modeling.trainer:train:157 -   Num epochs = 10\n",
      "2020-06-13 00:40:29.245 | INFO     | theta.modeling.trainer:train:158 -   Batch size = 64\n",
      "2020-06-13 00:40:29.245 | INFO     | theta.modeling.trainer:train:171 -   Gradient Accumulation steps = 1\n",
      "2020-06-13 00:40:29.246 | INFO     | theta.modeling.trainer:train:173 -   Total optimization steps = 8340\n",
      "2020-06-13 00:40:29.248 | INFO     | theta.modeling.glue.trainer:load_pretrained_model:278 - model_path: /opt/share/pretrained/pytorch/bert-base-chinese\n",
      "2020-06-13 00:40:29.249 | INFO     | theta.modeling.glue.trainer:load_pretrained_model:279 - config:BertConfig {\n",
      "  \"attention_probs_dropout_prob\": 0.1,\n",
      "  \"directionality\": \"bidi\",\n",
      "  \"focalloss_alpha\": null,\n",
      "  \"focalloss_gamma\": 1.5,\n",
      "  \"hidden_act\": \"gelu\",\n",
      "  \"hidden_dropout_prob\": 0.1,\n",
      "  \"hidden_size\": 768,\n",
      "  \"id2label\": {\n",
      "    \"0\": \"LABEL_0\",\n",
      "    \"1\": \"LABEL_1\",\n",
      "    \"2\": \"LABEL_2\",\n",
      "    \"3\": \"LABEL_3\",\n",
      "    \"4\": \"LABEL_4\",\n",
      "    \"5\": \"LABEL_5\",\n",
      "    \"6\": \"LABEL_6\",\n",
      "    \"7\": \"LABEL_7\",\n",
      "    \"8\": \"LABEL_8\",\n",
      "    \"9\": \"LABEL_9\",\n",
      "    \"10\": \"LABEL_10\",\n",
      "    \"11\": \"LABEL_11\",\n",
      "    \"12\": \"LABEL_12\",\n",
      "    \"13\": \"LABEL_13\",\n",
      "    \"14\": \"LABEL_14\"\n",
      "  },\n",
      "  \"initializer_range\": 0.02,\n",
      "  \"intermediate_size\": 3072,\n",
      "  \"label2id\": {\n",
      "    \"LABEL_0\": 0,\n",
      "    \"LABEL_1\": 1,\n",
      "    \"LABEL_10\": 10,\n",
      "    \"LABEL_11\": 11,\n",
      "    \"LABEL_12\": 12,\n",
      "    \"LABEL_13\": 13,\n",
      "    \"LABEL_14\": 14,\n",
      "    \"LABEL_2\": 2,\n",
      "    \"LABEL_3\": 3,\n",
      "    \"LABEL_4\": 4,\n",
      "    \"LABEL_5\": 5,\n",
      "    \"LABEL_6\": 6,\n",
      "    \"LABEL_7\": 7,\n",
      "    \"LABEL_8\": 8,\n",
      "    \"LABEL_9\": 9\n",
      "  },\n",
      "  \"layer_norm_eps\": 1e-12,\n",
      "  \"loss_type\": \"CrossEntropyLoss\",\n",
      "  \"max_position_embeddings\": 512,\n",
      "  \"model_type\": \"bert\",\n",
      "  \"num_attention_heads\": 12,\n",
      "  \"num_hidden_layers\": 12,\n",
      "  \"pad_token_id\": 0,\n",
      "  \"pooler_fc_size\": 768,\n",
      "  \"pooler_num_attention_heads\": 12,\n",
      "  \"pooler_num_fc_layers\": 3,\n",
      "  \"pooler_size_per_head\": 128,\n",
      "  \"pooler_type\": \"first_token_transform\",\n",
      "  \"type_vocab_size\": 2,\n",
      "  \"vocab_size\": 21128\n",
      "}\n",
      "\n",
      "2020-06-13 00:40:37.726 | WARNING  | theta.modeling.trainer:train:246 - Enable knowledge distillation.\n"
     ]
    },
    {
     "name": "stdout",
     "output_type": "stream",
     "text": [
      "Selected optimization level O1:  Insert automatic casts around Pytorch functions and Tensor methods.\n",
      "\n",
      "Defaults for this optimization level are:\n",
      "enabled                : True\n",
      "opt_level              : O1\n",
      "cast_model_type        : None\n",
      "patch_torch_functions  : True\n",
      "keep_batchnorm_fp32    : None\n",
      "master_weights         : None\n",
      "loss_scale             : dynamic\n",
      "Processing user overrides (additional kwargs that are not None)...\n",
      "After processing overrides, optimization options are:\n",
      "enabled                : True\n",
      "opt_level              : O1\n",
      "cast_model_type        : None\n",
      "patch_torch_functions  : True\n",
      "keep_batchnorm_fp32    : None\n",
      "master_weights         : None\n",
      "loss_scale             : dynamic\n",
      "Warning:  multi_tensor_applier fused unscale kernel is unavailable, possibly because apex was installed without --cuda_ext --cpp_ext. Using Python fallback.  Original ImportError was: ModuleNotFoundError(\"No module named 'amp_C'\")\n",
      "Epoch(1/10)   1/834 [..............................] - ETA: 9:54 - lr: 0.00e+00 - loss: 2.8705Gradient overflow.  Skipping step, loss scaler 0 reducing loss scale to 32768.0\n"
     ]
    },
    {
     "name": "stderr",
     "output_type": "stream",
     "text": [
      "/home/idleuncle/.pyenv/versions/env-nlp/lib/python3.7/site-packages/torch/optim/lr_scheduler.py:113: UserWarning: Seems like `optimizer.step()` has been overridden after learning rate scheduler initialization. Please, make sure to call `optimizer.step()` before `lr_scheduler.step()`. See more details at https://pytorch.org/docs/stable/optim.html#how-to-adjust-learning-rate\n",
      "  \"https://pytorch.org/docs/stable/optim.html#how-to-adjust-learning-rate\", UserWarning)\n"
     ]
    },
    {
     "name": "stdout",
     "output_type": "stream",
     "text": [
      "Epoch(1/10)  15/834 [..............................] - ETA: 10:11 - lr: 3.36e-07 - loss: 2.7362Gradient overflow.  Skipping step, loss scaler 0 reducing loss scale to 16384.0\n",
      "Epoch(1/10) 225/834 [=======>......................] - ETA: 7:56 - lr: 5.37e-06 - loss: 1.7284Gradient overflow.  Skipping step, loss scaler 0 reducing loss scale to 8192.0\n",
      "Epoch(1/10) 834/834 [==============================] - 680s 816ms/step - lr: 2.00e-05 - loss: 1.3140\n"
     ]
    },
    {
     "name": "stderr",
     "output_type": "stream",
     "text": [
      "2020-06-13 00:51:58.032 | INFO     | theta.modeling.trainer:train:351 - Epoch(1/10) evaluating.\n",
      "2020-06-13 00:51:58.865 | INFO     | theta.modeling.trainer:evaluate:434 - Start evaluating ...\n",
      "2020-06-13 00:51:58.866 | INFO     | theta.modeling.trainer:evaluate:435 -   Num examples    = 10000\n",
      "2020-06-13 00:51:58.867 | INFO     | theta.modeling.trainer:evaluate:436 -   Num epoch steps = 157\n",
      "2020-06-13 00:51:58.868 | INFO     | theta.modeling.trainer:evaluate:437 -   Batch size = 64\n"
     ]
    },
    {
     "name": "stdout",
     "output_type": "stream",
     "text": [
      "Evaluating 157/157 [==============================] - 34s 217ms/step - acc: 0.5638 - f1: 0.5261 - acc_and_f1: 0.5420 - loss: 0.6793\n"
     ]
    },
    {
     "name": "stderr",
     "output_type": "stream",
     "text": [
      "/home/idleuncle/.pyenv/versions/env-nlp/lib/python3.7/site-packages/sklearn/metrics/_classification.py:1221: UndefinedMetricWarning: Precision and F-score are ill-defined and being set to 0.0 in labels with no predicted samples. Use `zero_division` parameter to control this behavior.\n",
      "  _warn_prf(average, modifier, msg_start, len(result))\n",
      "2020-06-13 00:52:33.034 | INFO     | theta.modeling.glue.trainer:__call__:367 - classify_report:\n",
      "                    precision    recall  f1-score   support\n",
      "\n",
      "        news_story       0.55      0.42      0.47       215\n",
      "      news_culture       0.49      0.61      0.55       736\n",
      "news_entertainment       0.57      0.60      0.59       910\n",
      "       news_sports       0.71      0.70      0.71       767\n",
      "      news_finance       0.46      0.60      0.52       956\n",
      "        news_house       0.59      0.64      0.61       378\n",
      "          news_car       0.72      0.62      0.67       791\n",
      "          news_edu       0.58      0.60      0.59       646\n",
      "         news_tech       0.57      0.42      0.48      1089\n",
      "     news_military       0.61      0.39      0.48       716\n",
      "       news_travel       0.46      0.53      0.49       693\n",
      "        news_world       0.49      0.61      0.54       905\n",
      "        news_stock       0.00      0.00      0.00        45\n",
      "  news_agriculture       0.59      0.48      0.53       494\n",
      "         news_game       0.67      0.66      0.66       659\n",
      "\n",
      "          accuracy                           0.56     10000\n",
      "         macro avg       0.54      0.52      0.53     10000\n",
      "      weighted avg       0.57      0.56      0.56     10000\n",
      "\n",
      "2020-06-13 00:52:33.035 | INFO     | theta.modeling.glue.trainer:on_eval_end:502 -   Num examples = 10000\n",
      "2020-06-13 00:52:33.035 | INFO     | theta.modeling.glue.trainer:on_eval_end:503 -   Batch size = 64\n",
      "2020-06-13 00:52:33.036 | INFO     | theta.modeling.glue.trainer:on_eval_end:504 - ******** Eval results ********\n",
      "2020-06-13 00:52:33.037 | INFO     | theta.modeling.glue.trainer:on_eval_end:506 -  dev: acc = 0.5638\n",
      "2020-06-13 00:52:33.037 | INFO     | theta.modeling.glue.trainer:on_eval_end:506 -  dev: f1 = 0.5261\n",
      "2020-06-13 00:52:33.038 | INFO     | theta.modeling.glue.trainer:on_eval_end:506 -  dev: acc_and_f1 = 0.5450\n",
      "2020-06-13 00:52:33.061 | INFO     | theta.modeling.trainer:train:389 - Best f1: 0.5261 (0.526102)\n",
      "2020-06-13 00:52:33.062 | INFO     | theta.modeling.trainer:save_model:114 - Saving model checkpoint to output_tnews/best_fold0\n"
     ]
    },
    {
     "name": "stdout",
     "output_type": "stream",
     "text": [
      "{\"eval_acc\": \"0.563800\", \"eval_f1\": \"0.526102\", \"eval_acc_and_f1\": \"0.544951\", \"learning_rate\": \"0.000040\", \"loss\": \"1.574061\", \"step\": 834}\n",
      " \n",
      "Epoch(2/10) 834/834 [==============================] - 697s 836ms/step - lr: 3.78e-05 - loss: 1.1096\n"
     ]
    },
    {
     "name": "stderr",
     "output_type": "stream",
     "text": [
      "2020-06-13 01:04:17.223 | INFO     | theta.modeling.trainer:train:351 - Epoch(2/10) evaluating.\n",
      "2020-06-13 01:04:18.066 | INFO     | theta.modeling.trainer:evaluate:434 - Start evaluating ...\n",
      "2020-06-13 01:04:18.067 | INFO     | theta.modeling.trainer:evaluate:435 -   Num examples    = 10000\n",
      "2020-06-13 01:04:18.067 | INFO     | theta.modeling.trainer:evaluate:436 -   Num epoch steps = 157\n",
      "2020-06-13 01:04:18.068 | INFO     | theta.modeling.trainer:evaluate:437 -   Batch size = 64\n"
     ]
    },
    {
     "name": "stdout",
     "output_type": "stream",
     "text": [
      "Evaluating 157/157 [==============================] - 34s 218ms/step - acc: 0.5615 - f1: 0.5447 - acc_and_f1: 0.5438 - loss: 0.5110\n"
     ]
    },
    {
     "name": "stderr",
     "output_type": "stream",
     "text": [
      "2020-06-13 01:04:52.308 | INFO     | theta.modeling.glue.trainer:__call__:367 - classify_report:\n",
      "                    precision    recall  f1-score   support\n",
      "\n",
      "        news_story       0.52      0.48      0.50       215\n",
      "      news_culture       0.50      0.61      0.55       736\n",
      "news_entertainment       0.60      0.55      0.57       910\n",
      "       news_sports       0.73      0.72      0.73       767\n",
      "      news_finance       0.46      0.43      0.44       956\n",
      "        news_house       0.63      0.62      0.62       378\n",
      "          news_car       0.75      0.56      0.64       791\n",
      "          news_edu       0.54      0.63      0.58       646\n",
      "         news_tech       0.53      0.59      0.56      1089\n",
      "     news_military       0.51      0.68      0.58       716\n",
      "       news_travel       0.48      0.51      0.50       693\n",
      "        news_world       0.49      0.41      0.44       905\n",
      "        news_stock       0.50      0.18      0.26        45\n",
      "  news_agriculture       0.53      0.52      0.52       494\n",
      "         news_game       0.73      0.61      0.66       659\n",
      "\n",
      "          accuracy                           0.56     10000\n",
      "         macro avg       0.57      0.54      0.54     10000\n",
      "      weighted avg       0.57      0.56      0.56     10000\n",
      "\n",
      "2020-06-13 01:04:52.309 | INFO     | theta.modeling.glue.trainer:on_eval_end:502 -   Num examples = 10000\n",
      "2020-06-13 01:04:52.309 | INFO     | theta.modeling.glue.trainer:on_eval_end:503 -   Batch size = 64\n",
      "2020-06-13 01:04:52.310 | INFO     | theta.modeling.glue.trainer:on_eval_end:504 - ******** Eval results ********\n",
      "2020-06-13 01:04:52.310 | INFO     | theta.modeling.glue.trainer:on_eval_end:506 -  dev: acc = 0.5615\n",
      "2020-06-13 01:04:52.311 | INFO     | theta.modeling.glue.trainer:on_eval_end:506 -  dev: f1 = 0.5447\n",
      "2020-06-13 01:04:52.312 | INFO     | theta.modeling.glue.trainer:on_eval_end:506 -  dev: acc_and_f1 = 0.5531\n",
      "2020-06-13 01:04:52.335 | INFO     | theta.modeling.trainer:train:389 - Best f1: 0.5447 (0.018599)\n",
      "2020-06-13 01:04:52.335 | INFO     | theta.modeling.trainer:save_model:114 - Saving model checkpoint to output_tnews/best_fold0\n"
     ]
    },
    {
     "name": "stdout",
     "output_type": "stream",
     "text": [
      "{\"eval_acc\": \"0.561500\", \"eval_f1\": \"0.544701\", \"eval_acc_and_f1\": \"0.553101\", \"learning_rate\": \"0.000036\", \"loss\": \"1.220316\", \"step\": 1668}\n",
      " \n",
      "Epoch(3/10) 834/834 [==============================] - 697s 836ms/step - lr: 3.33e-05 - loss: 1.0045\n"
     ]
    },
    {
     "name": "stderr",
     "output_type": "stream",
     "text": [
      "2020-06-13 01:16:37.693 | INFO     | theta.modeling.trainer:train:351 - Epoch(3/10) evaluating.\n",
      "2020-06-13 01:16:38.094 | INFO     | theta.modeling.trainer:evaluate:434 - Start evaluating ...\n",
      "2020-06-13 01:16:38.095 | INFO     | theta.modeling.trainer:evaluate:435 -   Num examples    = 10000\n",
      "2020-06-13 01:16:38.096 | INFO     | theta.modeling.trainer:evaluate:436 -   Num epoch steps = 157\n",
      "2020-06-13 01:16:38.097 | INFO     | theta.modeling.trainer:evaluate:437 -   Batch size = 64\n"
     ]
    },
    {
     "name": "stdout",
     "output_type": "stream",
     "text": [
      "Evaluating 157/157 [==============================] - 35s 221ms/step - acc: 0.5663 - f1: 0.5535 - acc_and_f1: 0.5509 - loss: 0.4428\n"
     ]
    },
    {
     "name": "stderr",
     "output_type": "stream",
     "text": [
      "2020-06-13 01:17:12.809 | INFO     | theta.modeling.glue.trainer:__call__:367 - classify_report:\n",
      "                    precision    recall  f1-score   support\n",
      "\n",
      "        news_story       0.52      0.39      0.45       215\n",
      "      news_culture       0.52      0.57      0.54       736\n",
      "news_entertainment       0.57      0.62      0.59       910\n",
      "       news_sports       0.76      0.69      0.72       767\n",
      "      news_finance       0.48      0.41      0.44       956\n",
      "        news_house       0.60      0.61      0.61       378\n",
      "          news_car       0.72      0.59      0.65       791\n",
      "          news_edu       0.60      0.59      0.59       646\n",
      "         news_tech       0.52      0.63      0.57      1089\n",
      "     news_military       0.52      0.64      0.58       716\n",
      "       news_travel       0.53      0.44      0.48       693\n",
      "        news_world       0.48      0.44      0.46       905\n",
      "        news_stock       0.44      0.36      0.40        45\n",
      "  news_agriculture       0.53      0.58      0.55       494\n",
      "         news_game       0.68      0.67      0.67       659\n",
      "\n",
      "          accuracy                           0.57     10000\n",
      "         macro avg       0.56      0.55      0.55     10000\n",
      "      weighted avg       0.57      0.57      0.57     10000\n",
      "\n",
      "2020-06-13 01:17:12.810 | INFO     | theta.modeling.glue.trainer:on_eval_end:502 -   Num examples = 10000\n",
      "2020-06-13 01:17:12.810 | INFO     | theta.modeling.glue.trainer:on_eval_end:503 -   Batch size = 64\n",
      "2020-06-13 01:17:12.811 | INFO     | theta.modeling.glue.trainer:on_eval_end:504 - ******** Eval results ********\n",
      "2020-06-13 01:17:12.812 | INFO     | theta.modeling.glue.trainer:on_eval_end:506 -  dev: acc = 0.5663\n",
      "2020-06-13 01:17:12.812 | INFO     | theta.modeling.glue.trainer:on_eval_end:506 -  dev: f1 = 0.5535\n",
      "2020-06-13 01:17:12.813 | INFO     | theta.modeling.glue.trainer:on_eval_end:506 -  dev: acc_and_f1 = 0.5599\n",
      "2020-06-13 01:17:12.838 | INFO     | theta.modeling.trainer:train:389 - Best f1: 0.5535 (0.008759)\n",
      "2020-06-13 01:17:12.838 | INFO     | theta.modeling.trainer:save_model:114 - Saving model checkpoint to output_tnews/best_fold0\n"
     ]
    },
    {
     "name": "stdout",
     "output_type": "stream",
     "text": [
      "{\"eval_acc\": \"0.566300\", \"eval_f1\": \"0.553460\", \"eval_acc_and_f1\": \"0.559880\", \"learning_rate\": \"0.000031\", \"loss\": \"0.979170\", \"step\": 2502}\n",
      " \n",
      "Epoch(4/10) 834/834 [==============================] - 697s 836ms/step - lr: 2.89e-05 - loss: 0.7785\n"
     ]
    },
    {
     "name": "stderr",
     "output_type": "stream",
     "text": [
      "2020-06-13 01:28:57.715 | INFO     | theta.modeling.trainer:train:351 - Epoch(4/10) evaluating.\n",
      "2020-06-13 01:28:58.142 | INFO     | theta.modeling.trainer:evaluate:434 - Start evaluating ...\n",
      "2020-06-13 01:28:58.143 | INFO     | theta.modeling.trainer:evaluate:435 -   Num examples    = 10000\n",
      "2020-06-13 01:28:58.144 | INFO     | theta.modeling.trainer:evaluate:436 -   Num epoch steps = 157\n",
      "2020-06-13 01:28:58.145 | INFO     | theta.modeling.trainer:evaluate:437 -   Batch size = 64\n"
     ]
    },
    {
     "name": "stdout",
     "output_type": "stream",
     "text": [
      "Evaluating 157/157 [==============================] - 34s 219ms/step - acc: 0.5702 - f1: 0.5517 - acc_and_f1: 0.5553 - loss: 0.6004\n"
     ]
    },
    {
     "name": "stderr",
     "output_type": "stream",
     "text": [
      "2020-06-13 01:29:32.561 | INFO     | theta.modeling.glue.trainer:__call__:367 - classify_report:\n",
      "                    precision    recall  f1-score   support\n",
      "\n",
      "        news_story       0.49      0.40      0.44       215\n",
      "      news_culture       0.54      0.57      0.55       736\n",
      "news_entertainment       0.56      0.64      0.60       910\n",
      "       news_sports       0.75      0.73      0.74       767\n",
      "      news_finance       0.48      0.49      0.49       956\n",
      "        news_house       0.61      0.60      0.61       378\n",
      "          news_car       0.68      0.62      0.65       791\n",
      "          news_edu       0.63      0.58      0.60       646\n",
      "         news_tech       0.54      0.54      0.54      1089\n",
      "     news_military       0.54      0.56      0.55       716\n",
      "       news_travel       0.52      0.44      0.48       693\n",
      "        news_world       0.50      0.53      0.52       905\n",
      "        news_stock       0.41      0.27      0.32        45\n",
      "  news_agriculture       0.48      0.59      0.53       494\n",
      "         news_game       0.70      0.63      0.66       659\n",
      "\n",
      "          accuracy                           0.57     10000\n",
      "         macro avg       0.56      0.55      0.55     10000\n",
      "      weighted avg       0.57      0.57      0.57     10000\n",
      "\n",
      "2020-06-13 01:29:32.562 | INFO     | theta.modeling.glue.trainer:on_eval_end:502 -   Num examples = 10000\n",
      "2020-06-13 01:29:32.562 | INFO     | theta.modeling.glue.trainer:on_eval_end:503 -   Batch size = 64\n",
      "2020-06-13 01:29:32.563 | INFO     | theta.modeling.glue.trainer:on_eval_end:504 - ******** Eval results ********\n",
      "2020-06-13 01:29:32.564 | INFO     | theta.modeling.glue.trainer:on_eval_end:506 -  dev: acc = 0.5702\n",
      "2020-06-13 01:29:32.564 | INFO     | theta.modeling.glue.trainer:on_eval_end:506 -  dev: f1 = 0.5517\n",
      "2020-06-13 01:29:32.565 | INFO     | theta.modeling.glue.trainer:on_eval_end:506 -  dev: acc_and_f1 = 0.5609\n"
     ]
    },
    {
     "name": "stdout",
     "output_type": "stream",
     "text": [
      "{\"eval_acc\": \"0.570200\", \"eval_f1\": \"0.551686\", \"eval_acc_and_f1\": \"0.560943\", \"learning_rate\": \"0.000027\", \"loss\": \"0.785866\", \"step\": 3336}\n",
      " \n",
      "Epoch(5/10) 834/834 [==============================] - 700s 839ms/step - lr: 2.44e-05 - loss: 0.4499\n"
     ]
    },
    {
     "name": "stderr",
     "output_type": "stream",
     "text": [
      "2020-06-13 01:41:12.513 | INFO     | theta.modeling.trainer:train:351 - Epoch(5/10) evaluating.\n",
      "2020-06-13 01:41:12.910 | INFO     | theta.modeling.trainer:evaluate:434 - Start evaluating ...\n",
      "2020-06-13 01:41:12.911 | INFO     | theta.modeling.trainer:evaluate:435 -   Num examples    = 10000\n",
      "2020-06-13 01:41:12.912 | INFO     | theta.modeling.trainer:evaluate:436 -   Num epoch steps = 157\n",
      "2020-06-13 01:41:12.913 | INFO     | theta.modeling.trainer:evaluate:437 -   Batch size = 64\n"
     ]
    },
    {
     "name": "stdout",
     "output_type": "stream",
     "text": [
      "Evaluating 157/157 [==============================] - 35s 221ms/step - acc: 0.5687 - f1: 0.5600 - acc_and_f1: 0.5611 - loss: 0.6162\n"
     ]
    },
    {
     "name": "stderr",
     "output_type": "stream",
     "text": [
      "2020-06-13 01:41:47.651 | INFO     | theta.modeling.glue.trainer:__call__:367 - classify_report:\n",
      "                    precision    recall  f1-score   support\n",
      "\n",
      "        news_story       0.51      0.41      0.46       215\n",
      "      news_culture       0.56      0.58      0.57       736\n",
      "news_entertainment       0.56      0.62      0.59       910\n",
      "       news_sports       0.76      0.72      0.74       767\n",
      "      news_finance       0.49      0.47      0.48       956\n",
      "        news_house       0.59      0.62      0.61       378\n",
      "          news_car       0.67      0.63      0.65       791\n",
      "          news_edu       0.61      0.57      0.59       646\n",
      "         news_tech       0.53      0.57      0.55      1089\n",
      "     news_military       0.53      0.53      0.53       716\n",
      "       news_travel       0.52      0.48      0.50       693\n",
      "        news_world       0.50      0.51      0.51       905\n",
      "        news_stock       0.50      0.44      0.47        45\n",
      "  news_agriculture       0.49      0.53      0.51       494\n",
      "         news_game       0.68      0.63      0.66       659\n",
      "\n",
      "          accuracy                           0.57     10000\n",
      "         macro avg       0.57      0.56      0.56     10000\n",
      "      weighted avg       0.57      0.57      0.57     10000\n",
      "\n",
      "2020-06-13 01:41:47.652 | INFO     | theta.modeling.glue.trainer:on_eval_end:502 -   Num examples = 10000\n",
      "2020-06-13 01:41:47.653 | INFO     | theta.modeling.glue.trainer:on_eval_end:503 -   Batch size = 64\n",
      "2020-06-13 01:41:47.653 | INFO     | theta.modeling.glue.trainer:on_eval_end:504 - ******** Eval results ********\n",
      "2020-06-13 01:41:47.654 | INFO     | theta.modeling.glue.trainer:on_eval_end:506 -  dev: acc = 0.5687\n",
      "2020-06-13 01:41:47.655 | INFO     | theta.modeling.glue.trainer:on_eval_end:506 -  dev: f1 = 0.5600\n",
      "2020-06-13 01:41:47.655 | INFO     | theta.modeling.glue.trainer:on_eval_end:506 -  dev: acc_and_f1 = 0.5644\n",
      "2020-06-13 01:41:47.677 | INFO     | theta.modeling.trainer:train:389 - Best f1: 0.5600 (0.006562)\n",
      "2020-06-13 01:41:47.678 | INFO     | theta.modeling.trainer:save_model:114 - Saving model checkpoint to output_tnews/best_fold0\n"
     ]
    },
    {
     "name": "stdout",
     "output_type": "stream",
     "text": [
      "{\"eval_acc\": \"0.568700\", \"eval_f1\": \"0.560023\", \"eval_acc_and_f1\": \"0.564361\", \"learning_rate\": \"0.000022\", \"loss\": \"0.639321\", \"step\": 4170}\n",
      " \n",
      "Epoch(6/10) 834/834 [==============================] - 697s 835ms/step - lr: 2.00e-05 - loss: 0.5423\n"
     ]
    },
    {
     "name": "stderr",
     "output_type": "stream",
     "text": [
      "2020-06-13 01:53:30.770 | INFO     | theta.modeling.trainer:train:351 - Epoch(6/10) evaluating.\n",
      "2020-06-13 01:53:31.135 | INFO     | theta.modeling.trainer:evaluate:434 - Start evaluating ...\n",
      "2020-06-13 01:53:31.136 | INFO     | theta.modeling.trainer:evaluate:435 -   Num examples    = 10000\n",
      "2020-06-13 01:53:31.136 | INFO     | theta.modeling.trainer:evaluate:436 -   Num epoch steps = 157\n",
      "2020-06-13 01:53:31.137 | INFO     | theta.modeling.trainer:evaluate:437 -   Batch size = 64\n"
     ]
    },
    {
     "name": "stdout",
     "output_type": "stream",
     "text": [
      "Evaluating 157/157 [==============================] - 34s 218ms/step - acc: 0.5638 - f1: 0.5496 - acc_and_f1: 0.5498 - loss: 0.8979\n"
     ]
    },
    {
     "name": "stderr",
     "output_type": "stream",
     "text": [
      "2020-06-13 01:54:05.438 | INFO     | theta.modeling.glue.trainer:__call__:367 - classify_report:\n",
      "                    precision    recall  f1-score   support\n",
      "\n",
      "        news_story       0.58      0.36      0.45       215\n",
      "      news_culture       0.53      0.55      0.54       736\n",
      "news_entertainment       0.55      0.62      0.58       910\n",
      "       news_sports       0.74      0.74      0.74       767\n",
      "      news_finance       0.49      0.46      0.48       956\n",
      "        news_house       0.58      0.61      0.59       378\n",
      "          news_car       0.69      0.60      0.64       791\n",
      "          news_edu       0.58      0.62      0.60       646\n",
      "         news_tech       0.53      0.58      0.55      1089\n",
      "     news_military       0.53      0.58      0.55       716\n",
      "       news_travel       0.52      0.46      0.49       693\n",
      "        news_world       0.47      0.46      0.47       905\n",
      "        news_stock       0.42      0.36      0.39        45\n",
      "  news_agriculture       0.49      0.54      0.51       494\n",
      "         news_game       0.70      0.63      0.66       659\n",
      "\n",
      "          accuracy                           0.56     10000\n",
      "         macro avg       0.56      0.54      0.55     10000\n",
      "      weighted avg       0.57      0.56      0.56     10000\n",
      "\n",
      "2020-06-13 01:54:05.439 | INFO     | theta.modeling.glue.trainer:on_eval_end:502 -   Num examples = 10000\n",
      "2020-06-13 01:54:05.440 | INFO     | theta.modeling.glue.trainer:on_eval_end:503 -   Batch size = 64\n",
      "2020-06-13 01:54:05.440 | INFO     | theta.modeling.glue.trainer:on_eval_end:504 - ******** Eval results ********\n",
      "2020-06-13 01:54:05.441 | INFO     | theta.modeling.glue.trainer:on_eval_end:506 -  dev: acc = 0.5638\n",
      "2020-06-13 01:54:05.442 | INFO     | theta.modeling.glue.trainer:on_eval_end:506 -  dev: f1 = 0.5496\n",
      "2020-06-13 01:54:05.442 | INFO     | theta.modeling.glue.trainer:on_eval_end:506 -  dev: acc_and_f1 = 0.5567\n"
     ]
    },
    {
     "name": "stdout",
     "output_type": "stream",
     "text": [
      "{\"eval_acc\": \"0.563800\", \"eval_f1\": \"0.549559\", \"eval_acc_and_f1\": \"0.556680\", \"learning_rate\": \"0.000018\", \"loss\": \"0.545089\", \"step\": 5004}\n",
      " \n",
      "Epoch(7/10) 834/834 [==============================] - 698s 837ms/step - lr: 1.56e-05 - loss: 0.6492\n"
     ]
    },
    {
     "name": "stderr",
     "output_type": "stream",
     "text": [
      "2020-06-13 02:05:44.053 | INFO     | theta.modeling.trainer:train:351 - Epoch(7/10) evaluating.\n",
      "2020-06-13 02:05:44.768 | INFO     | theta.modeling.trainer:evaluate:434 - Start evaluating ...\n",
      "2020-06-13 02:05:44.769 | INFO     | theta.modeling.trainer:evaluate:435 -   Num examples    = 10000\n",
      "2020-06-13 02:05:44.770 | INFO     | theta.modeling.trainer:evaluate:436 -   Num epoch steps = 157\n",
      "2020-06-13 02:05:44.770 | INFO     | theta.modeling.trainer:evaluate:437 -   Batch size = 64\n"
     ]
    },
    {
     "name": "stdout",
     "output_type": "stream",
     "text": [
      "Evaluating 157/157 [==============================] - 34s 219ms/step - acc: 0.5666 - f1: 0.5509 - acc_and_f1: 0.5517 - loss: 0.8803\n"
     ]
    },
    {
     "name": "stderr",
     "output_type": "stream",
     "text": [
      "2020-06-13 02:06:19.126 | INFO     | theta.modeling.glue.trainer:__call__:367 - classify_report:\n",
      "                    precision    recall  f1-score   support\n",
      "\n",
      "        news_story       0.54      0.40      0.46       215\n",
      "      news_culture       0.55      0.54      0.55       736\n",
      "news_entertainment       0.57      0.60      0.58       910\n",
      "       news_sports       0.71      0.75      0.73       767\n",
      "      news_finance       0.51      0.48      0.49       956\n",
      "        news_house       0.59      0.64      0.61       378\n",
      "          news_car       0.70      0.60      0.64       791\n",
      "          news_edu       0.58      0.61      0.60       646\n",
      "         news_tech       0.53      0.56      0.54      1089\n",
      "     news_military       0.56      0.54      0.55       716\n",
      "       news_travel       0.49      0.53      0.51       693\n",
      "        news_world       0.51      0.49      0.50       905\n",
      "        news_stock       0.38      0.33      0.35        45\n",
      "  news_agriculture       0.48      0.53      0.50       494\n",
      "         news_game       0.68      0.62      0.65       659\n",
      "\n",
      "          accuracy                           0.57     10000\n",
      "         macro avg       0.56      0.55      0.55     10000\n",
      "      weighted avg       0.57      0.57      0.57     10000\n",
      "\n",
      "2020-06-13 02:06:19.126 | INFO     | theta.modeling.glue.trainer:on_eval_end:502 -   Num examples = 10000\n",
      "2020-06-13 02:06:19.127 | INFO     | theta.modeling.glue.trainer:on_eval_end:503 -   Batch size = 64\n",
      "2020-06-13 02:06:19.128 | INFO     | theta.modeling.glue.trainer:on_eval_end:504 - ******** Eval results ********\n",
      "2020-06-13 02:06:19.128 | INFO     | theta.modeling.glue.trainer:on_eval_end:506 -  dev: acc = 0.5666\n",
      "2020-06-13 02:06:19.129 | INFO     | theta.modeling.glue.trainer:on_eval_end:506 -  dev: f1 = 0.5509\n",
      "2020-06-13 02:06:19.129 | INFO     | theta.modeling.glue.trainer:on_eval_end:506 -  dev: acc_and_f1 = 0.5587\n"
     ]
    },
    {
     "name": "stdout",
     "output_type": "stream",
     "text": [
      "{\"eval_acc\": \"0.566600\", \"eval_f1\": \"0.550860\", \"eval_acc_and_f1\": \"0.558730\", \"learning_rate\": \"0.000013\", \"loss\": \"0.476954\", \"step\": 5838}\n",
      " \n",
      "Epoch(8/10)  56/834 [=>............................] - ETA: 10:50 - lr: 1.32e-05 - loss: 0.2985Gradient overflow.  Skipping step, loss scaler 0 reducing loss scale to 16384.0\n",
      "Epoch(8/10) 834/834 [==============================] - 699s 838ms/step - lr: 1.11e-05 - loss: 0.3981\n"
     ]
    },
    {
     "name": "stderr",
     "output_type": "stream",
     "text": [
      "2020-06-13 02:17:58.631 | INFO     | theta.modeling.trainer:train:351 - Epoch(8/10) evaluating.\n",
      "2020-06-13 02:17:59.015 | INFO     | theta.modeling.trainer:evaluate:434 - Start evaluating ...\n",
      "2020-06-13 02:17:59.016 | INFO     | theta.modeling.trainer:evaluate:435 -   Num examples    = 10000\n",
      "2020-06-13 02:17:59.017 | INFO     | theta.modeling.trainer:evaluate:436 -   Num epoch steps = 157\n",
      "2020-06-13 02:17:59.017 | INFO     | theta.modeling.trainer:evaluate:437 -   Batch size = 64\n"
     ]
    },
    {
     "name": "stdout",
     "output_type": "stream",
     "text": [
      "Evaluating 157/157 [==============================] - 35s 222ms/step - acc: 0.5661 - f1: 0.5559 - acc_and_f1: 0.5591 - loss: 0.9070\n"
     ]
    },
    {
     "name": "stderr",
     "output_type": "stream",
     "text": [
      "2020-06-13 02:18:33.918 | INFO     | theta.modeling.glue.trainer:__call__:367 - classify_report:\n",
      "                    precision    recall  f1-score   support\n",
      "\n",
      "        news_story       0.49      0.46      0.47       215\n",
      "      news_culture       0.55      0.53      0.54       736\n",
      "news_entertainment       0.60      0.56      0.58       910\n",
      "       news_sports       0.73      0.75      0.74       767\n",
      "      news_finance       0.49      0.52      0.50       956\n",
      "        news_house       0.58      0.61      0.59       378\n",
      "          news_car       0.68      0.62      0.65       791\n",
      "          news_edu       0.56      0.61      0.58       646\n",
      "         news_tech       0.53      0.54      0.53      1089\n",
      "     news_military       0.55      0.57      0.56       716\n",
      "       news_travel       0.51      0.46      0.49       693\n",
      "        news_world       0.50      0.50      0.50       905\n",
      "        news_stock       0.44      0.42      0.43        45\n",
      "  news_agriculture       0.47      0.57      0.51       494\n",
      "         news_game       0.69      0.62      0.65       659\n",
      "\n",
      "          accuracy                           0.57     10000\n",
      "         macro avg       0.56      0.56      0.56     10000\n",
      "      weighted avg       0.57      0.57      0.57     10000\n",
      "\n",
      "2020-06-13 02:18:33.919 | INFO     | theta.modeling.glue.trainer:on_eval_end:502 -   Num examples = 10000\n",
      "2020-06-13 02:18:33.919 | INFO     | theta.modeling.glue.trainer:on_eval_end:503 -   Batch size = 64\n",
      "2020-06-13 02:18:33.920 | INFO     | theta.modeling.glue.trainer:on_eval_end:504 - ******** Eval results ********\n",
      "2020-06-13 02:18:33.920 | INFO     | theta.modeling.glue.trainer:on_eval_end:506 -  dev: acc = 0.5661\n",
      "2020-06-13 02:18:33.921 | INFO     | theta.modeling.glue.trainer:on_eval_end:506 -  dev: f1 = 0.5559\n",
      "2020-06-13 02:18:33.922 | INFO     | theta.modeling.glue.trainer:on_eval_end:506 -  dev: acc_and_f1 = 0.5610\n"
     ]
    },
    {
     "name": "stdout",
     "output_type": "stream",
     "text": [
      "{\"eval_acc\": \"0.566100\", \"eval_f1\": \"0.555913\", \"eval_acc_and_f1\": \"0.561006\", \"learning_rate\": \"0.000009\", \"loss\": \"0.425645\", \"step\": 6672}\n",
      " \n",
      "Epoch(9/10) 834/834 [==============================] - 701s 841ms/step - lr: 6.67e-06 - loss: 0.4996\n"
     ]
    },
    {
     "name": "stderr",
     "output_type": "stream",
     "text": [
      "2020-06-13 02:30:15.237 | INFO     | theta.modeling.trainer:train:351 - Epoch(9/10) evaluating.\n",
      "2020-06-13 02:30:15.967 | INFO     | theta.modeling.trainer:evaluate:434 - Start evaluating ...\n",
      "2020-06-13 02:30:15.968 | INFO     | theta.modeling.trainer:evaluate:435 -   Num examples    = 10000\n",
      "2020-06-13 02:30:15.968 | INFO     | theta.modeling.trainer:evaluate:436 -   Num epoch steps = 157\n",
      "2020-06-13 02:30:15.969 | INFO     | theta.modeling.trainer:evaluate:437 -   Batch size = 64\n"
     ]
    },
    {
     "name": "stdout",
     "output_type": "stream",
     "text": [
      "Evaluating 157/157 [==============================] - 34s 219ms/step - acc: 0.5658 - f1: 0.5537 - acc_and_f1: 0.5542 - loss: 1.1120\n"
     ]
    },
    {
     "name": "stderr",
     "output_type": "stream",
     "text": [
      "2020-06-13 02:30:50.444 | INFO     | theta.modeling.glue.trainer:__call__:367 - classify_report:\n",
      "                    precision    recall  f1-score   support\n",
      "\n",
      "        news_story       0.53      0.42      0.47       215\n",
      "      news_culture       0.55      0.56      0.55       736\n",
      "news_entertainment       0.56      0.62      0.59       910\n",
      "       news_sports       0.73      0.74      0.74       767\n",
      "      news_finance       0.50      0.46      0.48       956\n",
      "        news_house       0.58      0.60      0.59       378\n",
      "          news_car       0.68      0.62      0.65       791\n",
      "          news_edu       0.58      0.58      0.58       646\n",
      "         news_tech       0.53      0.56      0.54      1089\n",
      "     news_military       0.54      0.54      0.54       716\n",
      "       news_travel       0.51      0.48      0.49       693\n",
      "        news_world       0.50      0.51      0.51       905\n",
      "        news_stock       0.40      0.42      0.41        45\n",
      "  news_agriculture       0.48      0.53      0.50       494\n",
      "         news_game       0.69      0.63      0.66       659\n",
      "\n",
      "          accuracy                           0.57     10000\n",
      "         macro avg       0.56      0.55      0.55     10000\n",
      "      weighted avg       0.57      0.57      0.57     10000\n",
      "\n",
      "2020-06-13 02:30:50.445 | INFO     | theta.modeling.glue.trainer:on_eval_end:502 -   Num examples = 10000\n",
      "2020-06-13 02:30:50.446 | INFO     | theta.modeling.glue.trainer:on_eval_end:503 -   Batch size = 64\n",
      "2020-06-13 02:30:50.447 | INFO     | theta.modeling.glue.trainer:on_eval_end:504 - ******** Eval results ********\n",
      "2020-06-13 02:30:50.447 | INFO     | theta.modeling.glue.trainer:on_eval_end:506 -  dev: acc = 0.5658\n",
      "2020-06-13 02:30:50.448 | INFO     | theta.modeling.glue.trainer:on_eval_end:506 -  dev: f1 = 0.5537\n",
      "2020-06-13 02:30:50.449 | INFO     | theta.modeling.glue.trainer:on_eval_end:506 -  dev: acc_and_f1 = 0.5597\n"
     ]
    },
    {
     "name": "stdout",
     "output_type": "stream",
     "text": [
      "{\"eval_acc\": \"0.565800\", \"eval_f1\": \"0.553684\", \"eval_acc_and_f1\": \"0.559742\", \"learning_rate\": \"0.000004\", \"loss\": \"0.390586\", \"step\": 7506}\n",
      " \n",
      "Epoch(10/10) 834/834 [==============================] - 702s 842ms/step - lr: 2.22e-06 - loss: 0.5170\n"
     ]
    },
    {
     "name": "stderr",
     "output_type": "stream",
     "text": [
      "2020-06-13 02:42:32.839 | INFO     | theta.modeling.trainer:train:351 - Epoch(10/10) evaluating.\n",
      "2020-06-13 02:42:33.651 | INFO     | theta.modeling.trainer:evaluate:434 - Start evaluating ...\n",
      "2020-06-13 02:42:33.652 | INFO     | theta.modeling.trainer:evaluate:435 -   Num examples    = 10000\n",
      "2020-06-13 02:42:33.653 | INFO     | theta.modeling.trainer:evaluate:436 -   Num epoch steps = 157\n",
      "2020-06-13 02:42:33.653 | INFO     | theta.modeling.trainer:evaluate:437 -   Batch size = 64\n"
     ]
    },
    {
     "name": "stdout",
     "output_type": "stream",
     "text": [
      "Evaluating 157/157 [==============================] - 34s 219ms/step - acc: 0.5661 - f1: 0.5540 - acc_and_f1: 0.5544 - loss: 0.9824\n"
     ]
    },
    {
     "name": "stderr",
     "output_type": "stream",
     "text": [
      "2020-06-13 02:43:08.038 | INFO     | theta.modeling.glue.trainer:__call__:367 - classify_report:\n",
      "                    precision    recall  f1-score   support\n",
      "\n",
      "        news_story       0.53      0.40      0.46       215\n",
      "      news_culture       0.55      0.55      0.55       736\n",
      "news_entertainment       0.58      0.59      0.58       910\n",
      "       news_sports       0.73      0.74      0.74       767\n",
      "      news_finance       0.49      0.48      0.49       956\n",
      "        news_house       0.59      0.61      0.60       378\n",
      "          news_car       0.68      0.63      0.65       791\n",
      "          news_edu       0.58      0.59      0.58       646\n",
      "         news_tech       0.52      0.57      0.54      1089\n",
      "     news_military       0.55      0.53      0.54       716\n",
      "       news_travel       0.50      0.47      0.49       693\n",
      "        news_world       0.50      0.53      0.51       905\n",
      "        news_stock       0.40      0.44      0.42        45\n",
      "  news_agriculture       0.48      0.53      0.50       494\n",
      "         news_game       0.67      0.64      0.65       659\n",
      "\n",
      "          accuracy                           0.57     10000\n",
      "         macro avg       0.56      0.55      0.55     10000\n",
      "      weighted avg       0.57      0.57      0.57     10000\n",
      "\n",
      "2020-06-13 02:43:08.039 | INFO     | theta.modeling.glue.trainer:on_eval_end:502 -   Num examples = 10000\n",
      "2020-06-13 02:43:08.039 | INFO     | theta.modeling.glue.trainer:on_eval_end:503 -   Batch size = 64\n",
      "2020-06-13 02:43:08.040 | INFO     | theta.modeling.glue.trainer:on_eval_end:504 - ******** Eval results ********\n",
      "2020-06-13 02:43:08.041 | INFO     | theta.modeling.glue.trainer:on_eval_end:506 -  dev: acc = 0.5661\n",
      "2020-06-13 02:43:08.042 | INFO     | theta.modeling.glue.trainer:on_eval_end:506 -  dev: f1 = 0.5540\n",
      "2020-06-13 02:43:08.042 | INFO     | theta.modeling.glue.trainer:on_eval_end:506 -  dev: acc_and_f1 = 0.5600\n"
     ]
    },
    {
     "name": "stdout",
     "output_type": "stream",
     "text": [
      "{\"eval_acc\": \"0.566100\", \"eval_f1\": \"0.553972\", \"eval_acc_and_f1\": \"0.560036\", \"learning_rate\": \"0.000000\", \"loss\": \"0.355363\", \"step\": 8340}\n",
      " \n"
     ]
    }
   ],
   "source": [
    "# args.fold = 9\n",
    "# args.loss_type = 'FocalLoss'\n",
    "# args.focalloss_gamma = 1.5\n",
    "args.enable_kd = True\n",
    "args.kd_coeff = 1.0\n",
    "\n",
    "args.learning_rate = 4e-5\n",
    "\n",
    "args.do_train=True\n",
    "args.do_predict=False\n",
    "args.do_eval=False\n",
    "args.do_eda = False\n",
    "args.generate_submission = False\n",
    "\n",
    "main(args)"
   ]
  },
  {
   "cell_type": "markdown",
   "metadata": {},
   "source": [
    "### 3.3 启动推理"
   ]
  },
  {
   "cell_type": "code",
   "execution_count": null,
   "metadata": {},
   "outputs": [],
   "source": [
    "args.do_train=False\n",
    "args.do_predict=True\n",
    "args.do_eval=False\n",
    "args.do_eda = False\n",
    "args.generate_submission = False\n",
    "args.model_path=CHECKPOINT_MODEL\n",
    "main(args)"
   ]
  },
  {
   "cell_type": "code",
   "execution_count": null,
   "metadata": {},
   "outputs": [],
   "source": [
    "args.fold"
   ]
  },
  {
   "cell_type": "markdown",
   "metadata": {},
   "source": [
    "## Load model"
   ]
  },
  {
   "cell_type": "code",
   "execution_count": null,
   "metadata": {},
   "outputs": [],
   "source": [
    "\n",
    "\n",
    "args = get_init_args()\n",
    "\n",
    "import os\n",
    "model_path=\"./output_tnews/best\"\n",
    "model_args = json.load(open(os.path.join(model_path, \"training_args.json\"), 'r'))\n",
    "for k,v in model_args.items():\n",
    "    setattr(args, k, v)\n",
    "    \n",
    "args"
   ]
  },
  {
   "cell_type": "code",
   "execution_count": null,
   "metadata": {},
   "outputs": [],
   "source": [
    "model = load_model(model_path)"
   ]
  },
  {
   "cell_type": "code",
   "execution_count": null,
   "metadata": {},
   "outputs": [],
   "source": []
  }
 ],
 "metadata": {
  "kernelspec": {
   "display_name": "env-nlp",
   "language": "python",
   "name": "env-nlp"
  },
  "language_info": {
   "codemirror_mode": {
    "name": "ipython",
    "version": 3
   },
   "file_extension": ".py",
   "mimetype": "text/x-python",
   "name": "python",
   "nbconvert_exporter": "python",
   "pygments_lexer": "ipython3",
   "version": "3.7.6"
  }
 },
 "nbformat": 4,
 "nbformat_minor": 4
}
